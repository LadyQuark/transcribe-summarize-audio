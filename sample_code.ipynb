{
 "cells": [
  {
   "cell_type": "code",
   "execution_count": 3,
   "metadata": {},
   "outputs": [
    {
     "name": "stdout",
     "output_type": "stream",
     "text": [
      "Downloading from URL\n",
      "Transcribing\n"
     ]
    },
    {
     "name": "stderr",
     "output_type": "stream",
     "text": [
      "/Users/dips/miniforge3/envs/transcribe/lib/python3.8/site-packages/whisper/transcribe.py:114: UserWarning: FP16 is not supported on CPU; using FP32 instead\n",
      "  warnings.warn(\"FP16 is not supported on CPU; using FP32 instead\")\n"
     ]
    }
   ],
   "source": [
    "from summarize import transcribe_audio\n",
    "url = \"https://pdcn.co/e/www.buzzsprout.com/1111670/9607531-wednesdays-parenting-with-emotional-intelligence-what-is-love-really.mp3\"\n",
    "text = transcribe_audio(url)"
   ]
  },
  {
   "cell_type": "code",
   "execution_count": 4,
   "metadata": {},
   "outputs": [
    {
     "name": "stdout",
     "output_type": "stream",
     "text": [
      "(\" You're listening to parenting with emotional intelligence, a subset of the \"\n",
      " \"living and leading with the emotional intelligence podcast. I'm your host, \"\n",
      " 'Brittany Nicole, the founder of Catalyst for Change, LLC, Generation EQ, and '\n",
      " 'author of the EQ Dificiency. If you find the information in this podcast '\n",
      " 'valuable and want to learn more about how you too can incorporate these '\n",
      " \"essential skills in your family's lives, I welcome you to contact me \"\n",
      " 'personally and we can have a chat. You can find my personal calendar link '\n",
      " \"and contact information in today's show notes. Can you be a loving, \"\n",
      " 'compassionate, and supportive parent while also being firm, assertive, and '\n",
      " 'intolerant? The short answer to this question is yes. The bigger question, '\n",
      " \"however, is how. And this is the question that I'll be answering in today's \"\n",
      " 'episode. First, I want to address the common misconception that is shared '\n",
      " 'among some parents and often leaders in the professional world. And that is, '\n",
      " \"if we show too much love and support, we're being soft and encouraging \"\n",
      " 'others to become codependent, lazy, soft, or entitled. Somewhere along the '\n",
      " \"way, society developed a belief that if we're not tough or don't present \"\n",
      " \"ourselves as the alpha, then we're weak and vulnerable. And if we're weak \"\n",
      " 'and vulnerable, others will run all over us. The truth is you can be loving, '\n",
      " 'comforting, compassionate, and supportive, and equally be steadfast, '\n",
      " 'assertive, and intolerant. To understand how we can be all of these things, '\n",
      " \"we need to begin by understanding what love is and isn't. Love as many of us \"\n",
      " 'know it is a watered-down version or a completely warped version of pure and '\n",
      " 'unconditional love. And I say this because for the first time in 31 years, I '\n",
      " \"experienced a deeper love than I've ever felt before. And I had this \"\n",
      " 'experience through meditation or a spiritual experience. And to be clear, '\n",
      " \"you don't have to be religious to have a spiritual experience. The reason I \"\n",
      " \"bring this up is because until we've experienced this deeper sense of love, \"\n",
      " \"it's hard to understand how much we often miss the mark on what love really \"\n",
      " 'means and what it feels like. That said, how does this apply to parenting? '\n",
      " 'When we do something in the name of love, we need to take a deeper look at '\n",
      " 'our intentions and desired outcomes. For example, if you take it upon '\n",
      " \"yourself to solve your child's problem because you see they're getting \"\n",
      " 'frustrated and want to give up, or you give in to their wants because you '\n",
      " \"don't want to see them upset or unhappy, you may convince yourself that \"\n",
      " \"you're doing it out of love. And while doing this may make you feel good \"\n",
      " 'because you want to see them happy or content, those warm and fuzzy feelings '\n",
      " 'which register in our brain as love are not quite the same as pure '\n",
      " \"unconditional love. We've gotten into the habit of labeling almost anything \"\n",
      " 'that brings us comfort and joy as love. I love pizza. I love traveling. I '\n",
      " \"love hanging out with friends. But what we're feeling in those situations \"\n",
      " \"and experiences isn't as much love as it is joy, excitement, happiness, \"\n",
      " 'comfort, etc. True love surpasses feeling good. Love is a feeling of peace, '\n",
      " 'stillness, contentment, fulfillment, and euphoria all wrapped into one at '\n",
      " \"the same time. And it lacks self-interest and motive. So I hope I'm \"\n",
      " 'conveying this in a way that helps you see the difference. Another thing '\n",
      " 'that parents may do and label as love is setting strict boundaries or '\n",
      " \"enforcing harsh punishments in the name of love. The parent may say, I'm \"\n",
      " \"doing this for your own good. I'm doing this because I love you. And while \"\n",
      " \"the parent may wholeheartedly believe what they're doing is right, is the \"\n",
      " 'right thing, and in some cases it may very well be out of pure love. But '\n",
      " \"sometimes, and what I've found, is that there tends to be in many cases \"\n",
      " 'self-interest and motive. And an example of this might be, if your child '\n",
      " \"doesn't perform well either academically in a sport or art, and then you \"\n",
      " 'ground them or force them to commit to more time practicing, or you deprive '\n",
      " \"them of something they enjoy until they do better, this action isn't always, \"\n",
      " 'but often is the result of self-interest of the parent. The parent may be '\n",
      " 'living vicariously through their child, obtaining their own self-worth, '\n",
      " \"through their child's achievements, intelligence, or talents. So I want to \"\n",
      " \"point out that things aren't black and white. It's really hard to describe \"\n",
      " 'this because some actions may look the same, but the intent behind that, the '\n",
      " \"reasoning behind that makes all the difference. So what I'm saying is it's \"\n",
      " 'not always out of self-interest and personal motive, but it can be. And when '\n",
      " \"we're unaware, and when we lack emotional intelligence, that's often the \"\n",
      " 'case more than it is it. The key here is to get clear on why we do what we '\n",
      " 'do, and be careful not to mislabel our actions or strong positive feelings '\n",
      " \"as love. So let's look at some examples of combining love, compassion, \"\n",
      " 'assertiveness, intolerance and all the things that I named in the beginning '\n",
      " \"of this episode. Let's say that your child isn't doing well in school, and \"\n",
      " 'you notice that they are prioritizing fun, extracurricular activities and '\n",
      " 'friends before homework and studying. How can you handle the situation with '\n",
      " 'love, compassion, support, and be assertive, steadfast, and intolerant? '\n",
      " \"There is no one way to do this, so I'm just going to offer a single example \"\n",
      " 'of how you might handle this. The first thing that I would do as a parent is '\n",
      " \"bring to my child's attention what I noticed in a very kind and \"\n",
      " \"non-judgmental way. I might say, you know, I've noticed that you've been \"\n",
      " \"struggling with your schoolwork and don't seem to put as much time into your \"\n",
      " 'studies and assignments. Notice that this is an observation, not an '\n",
      " \"interpretation. I'm not adding my opinions or how it makes me feel into that \"\n",
      " 'situation, just what I observed. This is where you offer that support and '\n",
      " 'compassion, empathize with them. Let them know that you completely '\n",
      " \"understand their challenges and what they're feeling, and you can also \"\n",
      " 'empathize with the fact that hanging out with friends and doing other things '\n",
      " 'is more enjoyable. What if your child mentions that they have no interest in '\n",
      " 'academics and want to instead make their living by becoming an influencer or '\n",
      " 'an entrepreneur? The truth is there are people who make millions by being '\n",
      " \"influencers, and it's also true that many of the world's most successful \"\n",
      " 'individuals did poorly in school. So how might you address this with your '\n",
      " 'child? Personally, this is where I would take an opportunity to humble '\n",
      " \"myself because I don't have a right answer. The fact is, times are changing, \"\n",
      " 'education is changing, and formal education is no longer the only way to '\n",
      " 'become revered as an expert or successful. That said, I may say to my child '\n",
      " \"that I don't know formal education is the right path for you, but what I do \"\n",
      " 'know is that whatever path you choose, you will have to work hard and make '\n",
      " 'sacrifices, and I want to see you be successful in whatever path you choose. '\n",
      " 'If you lack discipline and put enjoyment first, anything you do as a career '\n",
      " 'will fail. For now, I want you to put more attention into your schoolwork '\n",
      " \"and show me that you can prioritize and make necessary sacrifices. So I'm \"\n",
      " 'going to give you a chance to develop a system that works for you, but if I '\n",
      " \"don't see results with your system, I will have to enforce some rules and \"\n",
      " 'boundaries. This is just one example of this combo. So the point being, you '\n",
      " 'are making it all about the well-being of the child, while also offering '\n",
      " 'some flexibility for them to solve their own problems, and in some cases '\n",
      " 'make their own mistakes. A few other common misconceptions that I want to '\n",
      " \"address is that you don't need to yell to be assertive. You can show love by \"\n",
      " 'allowing your child to make mistakes that warrant consequences, obviously '\n",
      " 'within reason, and you can be understanding and supportive while also not '\n",
      " 'accepting excuses. So I hope you found this episode informative and not too '\n",
      " 'confusing. Feel free to reach out to me if you do have any questions. I am '\n",
      " 'happy to answer them or just hear your input and feedback. But that is all '\n",
      " 'for today. So until next time, live and lead with an open heart and an open '\n",
      " 'mind. Thanks for listening.')\n"
     ]
    }
   ],
   "source": [
    "import pprint\n",
    "pp = pprint.PrettyPrinter(depth=6)\n",
    "pp.pprint(text)"
   ]
  },
  {
   "cell_type": "code",
   "execution_count": null,
   "metadata": {},
   "outputs": [],
   "source": [
    "from summarize import summarize_audio_from_url\n",
    "url = \"https://pdcn.co/e/www.buzzsprout.com/1111670/9607531-wednesdays-parenting-with-emotional-intelligence-what-is-love-really.mp3\"\n",
    "summary = summarize_audio_from_url(url)\n",
    "print(summary)"
   ]
  },
  {
   "cell_type": "code",
   "execution_count": 2,
   "metadata": {},
   "outputs": [
    {
     "name": "stderr",
     "output_type": "stream",
     "text": [
      "Updating MongoDB:   0%|          | 1/2604 [00:20<15:02:34, 20.80s/it]"
     ]
    },
    {
     "name": "stdout",
     "output_type": "stream",
     "text": [
      "\n",
      "Updated: 1\n",
      "Failed: 0\n"
     ]
    },
    {
     "name": "stderr",
     "output_type": "stream",
     "text": [
      "\n"
     ]
    }
   ],
   "source": [
    "from mongo import update_all_podcast_transcript_summary\n",
    "update_all_podcast_transcript_summary()"
   ]
  }
 ],
 "metadata": {
  "kernelspec": {
   "display_name": "transcribe",
   "language": "python",
   "name": "python3"
  },
  "language_info": {
   "codemirror_mode": {
    "name": "ipython",
    "version": 3
   },
   "file_extension": ".py",
   "mimetype": "text/x-python",
   "name": "python",
   "nbconvert_exporter": "python",
   "pygments_lexer": "ipython3",
   "version": "3.8.13"
  },
  "orig_nbformat": 4
 },
 "nbformat": 4,
 "nbformat_minor": 2
}
